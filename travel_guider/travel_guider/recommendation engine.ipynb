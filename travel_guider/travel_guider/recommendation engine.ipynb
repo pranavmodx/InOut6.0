{
 "cells": [
  {
   "cell_type": "markdown",
   "metadata": {},
   "source": [
    "## Data Conversion to CSV files \n",
    "\n",
    "We generated 100 data points using faker library. We need more features like:\n",
    "- Age\n",
    "- E"
   ]
  },
  {
   "cell_type": "code",
   "execution_count": 2,
   "metadata": {},
   "outputs": [
    {
     "name": "stdout",
     "output_type": "stream",
     "text": [
      "                    Name                             Job  \\\n",
      "0            Kevin Joyce         Forest/woodland manager   \n",
      "1        Miguel Sandoval                      Oncologist   \n",
      "2         Rebecca Parker      Nurse, learning disability   \n",
      "3             Sally Cruz  Television/film/video producer   \n",
      "4      Kenneth Patterson                  Cytogeneticist   \n",
      "..                   ...                             ...   \n",
      "95  Christopher Jacobson                    Risk manager   \n",
      "96          Vanessa Cook                   Archaeologist   \n",
      "97       Danielle Garcia            Engineer, automotive   \n",
      "98           Terry Bruce                 Records manager   \n",
      "99          Scott Wilson                      Oncologist   \n",
      "\n",
      "                                              Address  \\\n",
      "0          0021 Sandra Drive\\nSchroederstad, ID 44958   \n",
      "1                           USNS Thomas\\nFPO AA 48138   \n",
      "2                    Unit 3094 Box 0713\\nDPO AA 13320   \n",
      "3   6562 Antonio Viaduct Suite 229\\nNew Larryside,...   \n",
      "4          22189 Marcus Gardens\\nHuntertown, WI 74390   \n",
      "..                                                ...   \n",
      "95   96347 Lang Ferry Suite 632\\nAutumnstad, OH 62011   \n",
      "96  099 Matthew Bridge Apt. 780\\nWest Tanya, ND 05641   \n",
      "97          55007 Taylor Cliff\\nJosephmouth, IA 95558   \n",
      "98            179 Randall Curve\\nKellyburgh, CT 42052   \n",
      "99                   Unit 1846 Box 0850\\nDPO AA 42592   \n",
      "\n",
      "                                         Co-ordinates  \n",
      "0           (23.18, 88.58, Aistala, IN, Asia/Kolkata)  \n",
      "1     (15.5439, 73.7553, Calangute, IN, Asia/Kolkata)  \n",
      "2           (23.18, 88.58, Aistala, IN, Asia/Kolkata)  \n",
      "3   (28.92694, 78.23456, Bachhraon, IN, Asia/Kolkata)  \n",
      "4        (23.49668, 86.68363, Adra, IN, Asia/Kolkata)  \n",
      "..                                                ...  \n",
      "95     (21.34222, 71.30633, Kundla, IN, Asia/Kolkata)  \n",
      "96  (15.45144, 78.14797, Betamcherla, IN, Asia/Kol...  \n",
      "97      (22.75218, 72.68533, Kheda, IN, Asia/Kolkata)  \n",
      "98  (21.53889, 71.57737, Gariadhar, IN, Asia/Kolkata)  \n",
      "99   (34.08565, 74.80555, Srinagar, IN, Asia/Kolkata)  \n",
      "\n",
      "[100 rows x 4 columns]\n"
     ]
    }
   ],
   "source": [
    "from faker import Faker\n",
    "from faker.providers import internet, geo\n",
    "import pandas as pd\n",
    "\n",
    "faker = Faker()\n",
    "df = []\n",
    "for n in range(100):\n",
    "    df.append({'Name':faker.name(), 'Job':faker.job() ,'Address':faker.address(), 'Co-ordinates':faker.local_latlng(country_code=\"IN\", coords_only=False)})\n",
    "\n",
    "df =  pd.DataFrame(df)\n",
    "print(df)\n"
   ]
  },
  {
   "cell_type": "code",
   "execution_count": 3,
   "metadata": {},
   "outputs": [
    {
     "data": {
      "text/html": [
       "<div>\n",
       "<style scoped>\n",
       "    .dataframe tbody tr th:only-of-type {\n",
       "        vertical-align: middle;\n",
       "    }\n",
       "\n",
       "    .dataframe tbody tr th {\n",
       "        vertical-align: top;\n",
       "    }\n",
       "\n",
       "    .dataframe thead th {\n",
       "        text-align: right;\n",
       "    }\n",
       "</style>\n",
       "<table border=\"1\" class=\"dataframe\">\n",
       "  <thead>\n",
       "    <tr style=\"text-align: right;\">\n",
       "      <th></th>\n",
       "      <th>Name</th>\n",
       "      <th>Job</th>\n",
       "      <th>Address</th>\n",
       "      <th>Co-ordinates</th>\n",
       "    </tr>\n",
       "  </thead>\n",
       "  <tbody>\n",
       "    <tr>\n",
       "      <th>0</th>\n",
       "      <td>Kevin Joyce</td>\n",
       "      <td>Forest/woodland manager</td>\n",
       "      <td>0021 Sandra Drive\\nSchroederstad, ID 44958</td>\n",
       "      <td>(23.18, 88.58, Aistala, IN, Asia/Kolkata)</td>\n",
       "    </tr>\n",
       "    <tr>\n",
       "      <th>1</th>\n",
       "      <td>Miguel Sandoval</td>\n",
       "      <td>Oncologist</td>\n",
       "      <td>USNS Thomas\\nFPO AA 48138</td>\n",
       "      <td>(15.5439, 73.7553, Calangute, IN, Asia/Kolkata)</td>\n",
       "    </tr>\n",
       "    <tr>\n",
       "      <th>2</th>\n",
       "      <td>Rebecca Parker</td>\n",
       "      <td>Nurse, learning disability</td>\n",
       "      <td>Unit 3094 Box 0713\\nDPO AA 13320</td>\n",
       "      <td>(23.18, 88.58, Aistala, IN, Asia/Kolkata)</td>\n",
       "    </tr>\n",
       "    <tr>\n",
       "      <th>3</th>\n",
       "      <td>Sally Cruz</td>\n",
       "      <td>Television/film/video producer</td>\n",
       "      <td>6562 Antonio Viaduct Suite 229\\nNew Larryside,...</td>\n",
       "      <td>(28.92694, 78.23456, Bachhraon, IN, Asia/Kolkata)</td>\n",
       "    </tr>\n",
       "    <tr>\n",
       "      <th>4</th>\n",
       "      <td>Kenneth Patterson</td>\n",
       "      <td>Cytogeneticist</td>\n",
       "      <td>22189 Marcus Gardens\\nHuntertown, WI 74390</td>\n",
       "      <td>(23.49668, 86.68363, Adra, IN, Asia/Kolkata)</td>\n",
       "    </tr>\n",
       "  </tbody>\n",
       "</table>\n",
       "</div>"
      ],
      "text/plain": [
       "                Name                             Job  \\\n",
       "0        Kevin Joyce         Forest/woodland manager   \n",
       "1    Miguel Sandoval                      Oncologist   \n",
       "2     Rebecca Parker      Nurse, learning disability   \n",
       "3         Sally Cruz  Television/film/video producer   \n",
       "4  Kenneth Patterson                  Cytogeneticist   \n",
       "\n",
       "                                             Address  \\\n",
       "0         0021 Sandra Drive\\nSchroederstad, ID 44958   \n",
       "1                          USNS Thomas\\nFPO AA 48138   \n",
       "2                   Unit 3094 Box 0713\\nDPO AA 13320   \n",
       "3  6562 Antonio Viaduct Suite 229\\nNew Larryside,...   \n",
       "4         22189 Marcus Gardens\\nHuntertown, WI 74390   \n",
       "\n",
       "                                        Co-ordinates  \n",
       "0          (23.18, 88.58, Aistala, IN, Asia/Kolkata)  \n",
       "1    (15.5439, 73.7553, Calangute, IN, Asia/Kolkata)  \n",
       "2          (23.18, 88.58, Aistala, IN, Asia/Kolkata)  \n",
       "3  (28.92694, 78.23456, Bachhraon, IN, Asia/Kolkata)  \n",
       "4       (23.49668, 86.68363, Adra, IN, Asia/Kolkata)  "
      ]
     },
     "execution_count": 3,
     "metadata": {},
     "output_type": "execute_result"
    }
   ],
   "source": [
    "df.head(5)"
   ]
  },
  {
   "cell_type": "code",
   "execution_count": 9,
   "metadata": {},
   "outputs": [
    {
     "data": {
      "text/plain": [
       "0         Aistala\n",
       "1       Calangute\n",
       "2         Aistala\n",
       "3       Bachhraon\n",
       "4            Adra\n",
       "         ...     \n",
       "95         Kundla\n",
       "96    Betamcherla\n",
       "97          Kheda\n",
       "98      Gariadhar\n",
       "99       Srinagar\n",
       "Name: Co-ordinates, Length: 100, dtype: object"
      ]
     },
     "execution_count": 9,
     "metadata": {},
     "output_type": "execute_result"
    }
   ],
   "source": [
    "df['Co-ordinates'].str[2]"
   ]
  },
  {
   "cell_type": "code",
   "execution_count": 13,
   "metadata": {},
   "outputs": [],
   "source": [
    "# Best way to clean data\n",
    "df['Lat'], df['Long'], df['City'], df['Country'], df['Timezone'] = zip(*df['Co-ordinates'])"
   ]
  },
  {
   "cell_type": "code",
   "execution_count": 16,
   "metadata": {},
   "outputs": [],
   "source": [
    "del df['Co-ordinates']"
   ]
  },
  {
   "cell_type": "code",
   "execution_count": 19,
   "metadata": {},
   "outputs": [],
   "source": [
    "#df.to_csv(index=False)"
   ]
  },
  {
   "cell_type": "code",
   "execution_count": null,
   "metadata": {},
   "outputs": [],
   "source": []
  }
 ],
 "metadata": {
  "kernelspec": {
   "display_name": "Python 3",
   "language": "python",
   "name": "python3"
  },
  "language_info": {
   "codemirror_mode": {
    "name": "ipython",
    "version": 3
   },
   "file_extension": ".py",
   "mimetype": "text/x-python",
   "name": "python",
   "nbconvert_exporter": "python",
   "pygments_lexer": "ipython3",
   "version": "3.6.8"
  }
 },
 "nbformat": 4,
 "nbformat_minor": 2
}
