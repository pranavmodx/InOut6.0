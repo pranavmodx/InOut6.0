{
 "cells": [
  {
   "cell_type": "markdown",
   "metadata": {},
   "source": [
    "## Data Conversion to CSV files \n",
    "\n",
    "We generated 100 data points using faker library. We need more features like:\n",
    "- Age\n",
    "- Native language\n",
    "- Expense choices"
   ]
  },
  {
   "cell_type": "code",
   "execution_count": 61,
   "metadata": {},
   "outputs": [
    {
     "name": "stdout",
     "output_type": "stream",
     "text": [
      "                  Name  gender prefeerences                             Job  \\\n",
      "0          Erin Cortez  Female        Basic                Graphic designer   \n",
      "1     Dr. Karen Wright    Male      Economy         Water quality scientist   \n",
      "2       Stephanie Chen  Female      Economy                       Archivist   \n",
      "3         Megan Walker    Male      Economy              Facilities manager   \n",
      "4       Leslie Ramirez    Male        Basic                 Producer, radio   \n",
      "...                ...     ...          ...                             ...   \n",
      "9995     Lonnie Watson    Male        Basic                Graphic designer   \n",
      "9996   Denise Gonzalez    Male        Basic  Armed forces technical officer   \n",
      "9997          Ian Lynn  Female      Economy    Fast food restaurant manager   \n",
      "9998      Matthew Hill  Female      Economy                  Retail manager   \n",
      "9999    Matthew Brooks    Male      Economy                    Tree surgeon   \n",
      "\n",
      "                                                Address  \\\n",
      "0       155 Estes Mountain\\nWest Benjaminside, DE 50389   \n",
      "1     0704 Olsen Islands Suite 499\\nEast Brian, NJ 3...   \n",
      "2       25567 Green Hill Suite 276\\nEricmouth, MS 97726   \n",
      "3     91583 Wagner Crossing Apt. 233\\nWoodstown, OH ...   \n",
      "4                   866 Boyd Avenue\\nLongview, MO 50726   \n",
      "...                                                 ...   \n",
      "9995       630 Michael Hollow\\nChristineshire, SC 52565   \n",
      "9996         0128 Joshua Creek\\nAndersonmouth, ID 84105   \n",
      "9997       03551 Ward Loop Apt. 847\\nCarrview, NV 78654   \n",
      "9998    9930 Kathy Trafficway\\nCunninghamstad, ID 51654   \n",
      "9999  522 Young Lodge Apt. 277\\nPort Thomasberg, SD ...   \n",
      "\n",
      "                                           Co-ordinates  \n",
      "0     (15.73628, 75.96976, Gajendragarh, IN, Asia/Ko...  \n",
      "1        (23.07492, 88.28637, Pandua, IN, Asia/Kolkata)  \n",
      "2     (10.58806, 77.24779, Udumalaippettai, IN, Asia...  \n",
      "3     (28.92694, 78.23456, Bachhraon, IN, Asia/Kolkata)  \n",
      "4     (11.93381, 79.82979, Puducherry, IN, Asia/Kolk...  \n",
      "...                                                 ...  \n",
      "9995      (25.75728, 75.37991, Deoli, IN, Asia/Kolkata)  \n",
      "9996  (17.54907, 82.85749, Elamanchili, IN, Asia/Kol...  \n",
      "9997  (26.76628, 83.36889, Gorakhpur, IN, Asia/Kolkata)  \n",
      "9998      (22.75218, 72.68533, Kheda, IN, Asia/Kolkata)  \n",
      "9999  (9.82564, 78.25795, Tiruppuvanam, IN, Asia/Kol...  \n",
      "\n",
      "[10000 rows x 6 columns]\n"
     ]
    }
   ],
   "source": [
    "from faker import Faker\n",
    "from faker.providers import internet, geo\n",
    "import pandas as pd\n",
    "import random\n",
    "\n",
    "faker = Faker()\n",
    "df = []\n",
    "gender = ['Male','Female']\n",
    "class_ = ['Basic', 'Economy', 'Buisness']\n",
    "\n",
    "for n in range(10000):\n",
    "    df.append({'Name':faker.name(), 'gender': gender[random.randint(0,1)] , 'prefeerences': class_[random.randint(0,1)],'Job':faker.job() ,'Address':faker.address(), 'Co-ordinates':faker.local_latlng(country_code=\"IN\", coords_only=False)})\n",
    "\n",
    "df =  pd.DataFrame(df)\n",
    "print(df)\n"
   ]
  },
  {
   "cell_type": "code",
   "execution_count": 62,
   "metadata": {},
   "outputs": [
    {
     "data": {
      "text/html": [
       "<div>\n",
       "<style scoped>\n",
       "    .dataframe tbody tr th:only-of-type {\n",
       "        vertical-align: middle;\n",
       "    }\n",
       "\n",
       "    .dataframe tbody tr th {\n",
       "        vertical-align: top;\n",
       "    }\n",
       "\n",
       "    .dataframe thead th {\n",
       "        text-align: right;\n",
       "    }\n",
       "</style>\n",
       "<table border=\"1\" class=\"dataframe\">\n",
       "  <thead>\n",
       "    <tr style=\"text-align: right;\">\n",
       "      <th></th>\n",
       "      <th>Name</th>\n",
       "      <th>gender</th>\n",
       "      <th>prefeerences</th>\n",
       "      <th>Job</th>\n",
       "      <th>Address</th>\n",
       "      <th>Co-ordinates</th>\n",
       "    </tr>\n",
       "  </thead>\n",
       "  <tbody>\n",
       "    <tr>\n",
       "      <th>0</th>\n",
       "      <td>Erin Cortez</td>\n",
       "      <td>Female</td>\n",
       "      <td>Basic</td>\n",
       "      <td>Graphic designer</td>\n",
       "      <td>155 Estes Mountain\\nWest Benjaminside, DE 50389</td>\n",
       "      <td>(15.73628, 75.96976, Gajendragarh, IN, Asia/Ko...</td>\n",
       "    </tr>\n",
       "    <tr>\n",
       "      <th>1</th>\n",
       "      <td>Dr. Karen Wright</td>\n",
       "      <td>Male</td>\n",
       "      <td>Economy</td>\n",
       "      <td>Water quality scientist</td>\n",
       "      <td>0704 Olsen Islands Suite 499\\nEast Brian, NJ 3...</td>\n",
       "      <td>(23.07492, 88.28637, Pandua, IN, Asia/Kolkata)</td>\n",
       "    </tr>\n",
       "    <tr>\n",
       "      <th>2</th>\n",
       "      <td>Stephanie Chen</td>\n",
       "      <td>Female</td>\n",
       "      <td>Economy</td>\n",
       "      <td>Archivist</td>\n",
       "      <td>25567 Green Hill Suite 276\\nEricmouth, MS 97726</td>\n",
       "      <td>(10.58806, 77.24779, Udumalaippettai, IN, Asia...</td>\n",
       "    </tr>\n",
       "    <tr>\n",
       "      <th>3</th>\n",
       "      <td>Megan Walker</td>\n",
       "      <td>Male</td>\n",
       "      <td>Economy</td>\n",
       "      <td>Facilities manager</td>\n",
       "      <td>91583 Wagner Crossing Apt. 233\\nWoodstown, OH ...</td>\n",
       "      <td>(28.92694, 78.23456, Bachhraon, IN, Asia/Kolkata)</td>\n",
       "    </tr>\n",
       "    <tr>\n",
       "      <th>4</th>\n",
       "      <td>Leslie Ramirez</td>\n",
       "      <td>Male</td>\n",
       "      <td>Basic</td>\n",
       "      <td>Producer, radio</td>\n",
       "      <td>866 Boyd Avenue\\nLongview, MO 50726</td>\n",
       "      <td>(11.93381, 79.82979, Puducherry, IN, Asia/Kolk...</td>\n",
       "    </tr>\n",
       "  </tbody>\n",
       "</table>\n",
       "</div>"
      ],
      "text/plain": [
       "               Name  gender prefeerences                      Job  \\\n",
       "0       Erin Cortez  Female        Basic         Graphic designer   \n",
       "1  Dr. Karen Wright    Male      Economy  Water quality scientist   \n",
       "2    Stephanie Chen  Female      Economy                Archivist   \n",
       "3      Megan Walker    Male      Economy       Facilities manager   \n",
       "4    Leslie Ramirez    Male        Basic          Producer, radio   \n",
       "\n",
       "                                             Address  \\\n",
       "0    155 Estes Mountain\\nWest Benjaminside, DE 50389   \n",
       "1  0704 Olsen Islands Suite 499\\nEast Brian, NJ 3...   \n",
       "2    25567 Green Hill Suite 276\\nEricmouth, MS 97726   \n",
       "3  91583 Wagner Crossing Apt. 233\\nWoodstown, OH ...   \n",
       "4                866 Boyd Avenue\\nLongview, MO 50726   \n",
       "\n",
       "                                        Co-ordinates  \n",
       "0  (15.73628, 75.96976, Gajendragarh, IN, Asia/Ko...  \n",
       "1     (23.07492, 88.28637, Pandua, IN, Asia/Kolkata)  \n",
       "2  (10.58806, 77.24779, Udumalaippettai, IN, Asia...  \n",
       "3  (28.92694, 78.23456, Bachhraon, IN, Asia/Kolkata)  \n",
       "4  (11.93381, 79.82979, Puducherry, IN, Asia/Kolk...  "
      ]
     },
     "execution_count": 62,
     "metadata": {},
     "output_type": "execute_result"
    }
   ],
   "source": [
    "df.head(5)"
   ]
  },
  {
   "cell_type": "code",
   "execution_count": 63,
   "metadata": {},
   "outputs": [
    {
     "data": {
      "text/plain": [
       "0          Gajendragarh\n",
       "1                Pandua\n",
       "2       Udumalaippettai\n",
       "3             Bachhraon\n",
       "4            Puducherry\n",
       "             ...       \n",
       "9995              Deoli\n",
       "9996        Elamanchili\n",
       "9997          Gorakhpur\n",
       "9998              Kheda\n",
       "9999       Tiruppuvanam\n",
       "Name: Co-ordinates, Length: 10000, dtype: object"
      ]
     },
     "execution_count": 63,
     "metadata": {},
     "output_type": "execute_result"
    }
   ],
   "source": [
    "df['Co-ordinates'].str[2]"
   ]
  },
  {
   "cell_type": "code",
   "execution_count": 64,
   "metadata": {},
   "outputs": [],
   "source": [
    "# Best way to clean data\n",
    "df['Lat'], df['Long'], df['City'], df['Country'], df['Timezone'] = zip(*df['Co-ordinates'])"
   ]
  },
  {
   "cell_type": "code",
   "execution_count": 65,
   "metadata": {},
   "outputs": [],
   "source": [
    "del df['Co-ordinates']"
   ]
  },
  {
   "cell_type": "code",
   "execution_count": 66,
   "metadata": {},
   "outputs": [],
   "source": [
    "df.to_csv('dataset.csv',index=False)"
   ]
  },
  {
   "cell_type": "markdown",
   "metadata": {},
   "source": [
    "## Create a recommender system\n",
    "\n",
    "**Resources**\n",
    "\n",
    "- https://www.analyticsvidhya.com/blog/2018/06/comprehensive-guide-recommendation-engine-python/\n",
    "- https://apple.github.io/turicreate/docs/userguide/recommender/\n",
    "- https://www.analyticsvidhya.com/blog/2015/12/started-graphlab-python/\n",
    "- https://github.com/turi-code/tutorials"
   ]
  },
  {
   "cell_type": "code",
   "execution_count": 59,
   "metadata": {},
   "outputs": [
    {
     "data": {
      "text/plain": [
       "100"
      ]
     },
     "execution_count": 59,
     "metadata": {},
     "output_type": "execute_result"
    }
   ],
   "source": [
    "df['Name'].nunique()"
   ]
  },
  {
   "cell_type": "code",
   "execution_count": 60,
   "metadata": {
    "scrolled": true
   },
   "outputs": [
    {
     "data": {
      "text/html": [
       "<div style=\"max-height:1000px;max-width:1500px;overflow:auto;\"><table frame=\"box\" rules=\"cols\">\n",
       "    <tr>\n",
       "        <th style=\"padding-left: 1em; padding-right: 1em; text-align: center\">Name</th>\n",
       "        <th style=\"padding-left: 1em; padding-right: 1em; text-align: center\">Job</th>\n",
       "        <th style=\"padding-left: 1em; padding-right: 1em; text-align: center\">Address</th>\n",
       "        <th style=\"padding-left: 1em; padding-right: 1em; text-align: center\">Lat</th>\n",
       "        <th style=\"padding-left: 1em; padding-right: 1em; text-align: center\">Long</th>\n",
       "        <th style=\"padding-left: 1em; padding-right: 1em; text-align: center\">City</th>\n",
       "    </tr>\n",
       "    <tr>\n",
       "        <td style=\"padding-left: 1em; padding-right: 1em; text-align: center; vertical-align: top\">Kevin Joyce</td>\n",
       "        <td style=\"padding-left: 1em; padding-right: 1em; text-align: center; vertical-align: top\">Forest/woodland manager</td>\n",
       "        <td style=\"padding-left: 1em; padding-right: 1em; text-align: center; vertical-align: top\">0021 Sandra<br>Drive\\nSchroederstad, ID ...</td>\n",
       "        <td style=\"padding-left: 1em; padding-right: 1em; text-align: center; vertical-align: top\">23.18</td>\n",
       "        <td style=\"padding-left: 1em; padding-right: 1em; text-align: center; vertical-align: top\">88.58</td>\n",
       "        <td style=\"padding-left: 1em; padding-right: 1em; text-align: center; vertical-align: top\">Aistala</td>\n",
       "    </tr>\n",
       "    <tr>\n",
       "        <td style=\"padding-left: 1em; padding-right: 1em; text-align: center; vertical-align: top\">Miguel Sandoval</td>\n",
       "        <td style=\"padding-left: 1em; padding-right: 1em; text-align: center; vertical-align: top\">Oncologist</td>\n",
       "        <td style=\"padding-left: 1em; padding-right: 1em; text-align: center; vertical-align: top\">USNS Thomas\\nFPO AA 48138</td>\n",
       "        <td style=\"padding-left: 1em; padding-right: 1em; text-align: center; vertical-align: top\">15.5439</td>\n",
       "        <td style=\"padding-left: 1em; padding-right: 1em; text-align: center; vertical-align: top\">73.7553</td>\n",
       "        <td style=\"padding-left: 1em; padding-right: 1em; text-align: center; vertical-align: top\">Calangute</td>\n",
       "    </tr>\n",
       "    <tr>\n",
       "        <td style=\"padding-left: 1em; padding-right: 1em; text-align: center; vertical-align: top\">Rebecca Parker</td>\n",
       "        <td style=\"padding-left: 1em; padding-right: 1em; text-align: center; vertical-align: top\">Nurse, learning<br>disability ...</td>\n",
       "        <td style=\"padding-left: 1em; padding-right: 1em; text-align: center; vertical-align: top\">Unit 3094 Box 0713\\nDPO<br>AA 13320 ...</td>\n",
       "        <td style=\"padding-left: 1em; padding-right: 1em; text-align: center; vertical-align: top\">23.18</td>\n",
       "        <td style=\"padding-left: 1em; padding-right: 1em; text-align: center; vertical-align: top\">88.58</td>\n",
       "        <td style=\"padding-left: 1em; padding-right: 1em; text-align: center; vertical-align: top\">Aistala</td>\n",
       "    </tr>\n",
       "    <tr>\n",
       "        <td style=\"padding-left: 1em; padding-right: 1em; text-align: center; vertical-align: top\">Sally Cruz</td>\n",
       "        <td style=\"padding-left: 1em; padding-right: 1em; text-align: center; vertical-align: top\">Television/film/video<br>producer ...</td>\n",
       "        <td style=\"padding-left: 1em; padding-right: 1em; text-align: center; vertical-align: top\">6562 Antonio Viaduct<br>Suite 229\\nNew Larrys ...</td>\n",
       "        <td style=\"padding-left: 1em; padding-right: 1em; text-align: center; vertical-align: top\">28.92694</td>\n",
       "        <td style=\"padding-left: 1em; padding-right: 1em; text-align: center; vertical-align: top\">78.23456</td>\n",
       "        <td style=\"padding-left: 1em; padding-right: 1em; text-align: center; vertical-align: top\">Bachhraon</td>\n",
       "    </tr>\n",
       "    <tr>\n",
       "        <td style=\"padding-left: 1em; padding-right: 1em; text-align: center; vertical-align: top\">Kenneth Patterson</td>\n",
       "        <td style=\"padding-left: 1em; padding-right: 1em; text-align: center; vertical-align: top\">Cytogeneticist</td>\n",
       "        <td style=\"padding-left: 1em; padding-right: 1em; text-align: center; vertical-align: top\">22189 Marcus<br>Gardens\\nHuntertown, WI ...</td>\n",
       "        <td style=\"padding-left: 1em; padding-right: 1em; text-align: center; vertical-align: top\">23.49668</td>\n",
       "        <td style=\"padding-left: 1em; padding-right: 1em; text-align: center; vertical-align: top\">86.68363</td>\n",
       "        <td style=\"padding-left: 1em; padding-right: 1em; text-align: center; vertical-align: top\">Adra</td>\n",
       "    </tr>\n",
       "    <tr>\n",
       "        <td style=\"padding-left: 1em; padding-right: 1em; text-align: center; vertical-align: top\">Andrea Trujillo</td>\n",
       "        <td style=\"padding-left: 1em; padding-right: 1em; text-align: center; vertical-align: top\">Banker</td>\n",
       "        <td style=\"padding-left: 1em; padding-right: 1em; text-align: center; vertical-align: top\">2822 Wright Springs Suite<br>604\\nNorth Lauren, MN ...</td>\n",
       "        <td style=\"padding-left: 1em; padding-right: 1em; text-align: center; vertical-align: top\">15.45144</td>\n",
       "        <td style=\"padding-left: 1em; padding-right: 1em; text-align: center; vertical-align: top\">78.14797</td>\n",
       "        <td style=\"padding-left: 1em; padding-right: 1em; text-align: center; vertical-align: top\">Betamcherla</td>\n",
       "    </tr>\n",
       "    <tr>\n",
       "        <td style=\"padding-left: 1em; padding-right: 1em; text-align: center; vertical-align: top\">Hannah Villa</td>\n",
       "        <td style=\"padding-left: 1em; padding-right: 1em; text-align: center; vertical-align: top\">Doctor, general practice</td>\n",
       "        <td style=\"padding-left: 1em; padding-right: 1em; text-align: center; vertical-align: top\">308 Katherine Falls Apt.<br>663\\nThomasbury, ME 2 ...</td>\n",
       "        <td style=\"padding-left: 1em; padding-right: 1em; text-align: center; vertical-align: top\">25.49043</td>\n",
       "        <td style=\"padding-left: 1em; padding-right: 1em; text-align: center; vertical-align: top\">85.94001</td>\n",
       "        <td style=\"padding-left: 1em; padding-right: 1em; text-align: center; vertical-align: top\">Teghra</td>\n",
       "    </tr>\n",
       "    <tr>\n",
       "        <td style=\"padding-left: 1em; padding-right: 1em; text-align: center; vertical-align: top\">Benjamin Buchanan PhD</td>\n",
       "        <td style=\"padding-left: 1em; padding-right: 1em; text-align: center; vertical-align: top\">Engineer, civil<br>(consulting) ...</td>\n",
       "        <td style=\"padding-left: 1em; padding-right: 1em; text-align: center; vertical-align: top\">1406 Campbell<br>Fall\\nRobertbury, WY ...</td>\n",
       "        <td style=\"padding-left: 1em; padding-right: 1em; text-align: center; vertical-align: top\">26.11527</td>\n",
       "        <td style=\"padding-left: 1em; padding-right: 1em; text-align: center; vertical-align: top\">86.59509</td>\n",
       "        <td style=\"padding-left: 1em; padding-right: 1em; text-align: center; vertical-align: top\">Supaul</td>\n",
       "    </tr>\n",
       "    <tr>\n",
       "        <td style=\"padding-left: 1em; padding-right: 1em; text-align: center; vertical-align: top\">Marcia Kelly</td>\n",
       "        <td style=\"padding-left: 1em; padding-right: 1em; text-align: center; vertical-align: top\">Homeopath</td>\n",
       "        <td style=\"padding-left: 1em; padding-right: 1em; text-align: center; vertical-align: top\">9807 Bailey<br>Turnpike\\nGoodmanberg ...</td>\n",
       "        <td style=\"padding-left: 1em; padding-right: 1em; text-align: center; vertical-align: top\">14.62072</td>\n",
       "        <td style=\"padding-left: 1em; padding-right: 1em; text-align: center; vertical-align: top\">74.83554</td>\n",
       "        <td style=\"padding-left: 1em; padding-right: 1em; text-align: center; vertical-align: top\">Sirsi</td>\n",
       "    </tr>\n",
       "    <tr>\n",
       "        <td style=\"padding-left: 1em; padding-right: 1em; text-align: center; vertical-align: top\">Amanda Bruce</td>\n",
       "        <td style=\"padding-left: 1em; padding-right: 1em; text-align: center; vertical-align: top\">Early years teacher</td>\n",
       "        <td style=\"padding-left: 1em; padding-right: 1em; text-align: center; vertical-align: top\">9318 Hughes Land Apt.<br>345\\nNew Michellebury ...</td>\n",
       "        <td style=\"padding-left: 1em; padding-right: 1em; text-align: center; vertical-align: top\">21.46527</td>\n",
       "        <td style=\"padding-left: 1em; padding-right: 1em; text-align: center; vertical-align: top\">83.97573</td>\n",
       "        <td style=\"padding-left: 1em; padding-right: 1em; text-align: center; vertical-align: top\">Sambalpur</td>\n",
       "    </tr>\n",
       "</table>\n",
       "<table frame=\"box\" rules=\"cols\">\n",
       "    <tr>\n",
       "        <th style=\"padding-left: 1em; padding-right: 1em; text-align: center\">Country</th>\n",
       "        <th style=\"padding-left: 1em; padding-right: 1em; text-align: center\">Timezone</th>\n",
       "    </tr>\n",
       "    <tr>\n",
       "        <td style=\"padding-left: 1em; padding-right: 1em; text-align: center; vertical-align: top\">IN</td>\n",
       "        <td style=\"padding-left: 1em; padding-right: 1em; text-align: center; vertical-align: top\">Asia/Kolkata</td>\n",
       "    </tr>\n",
       "    <tr>\n",
       "        <td style=\"padding-left: 1em; padding-right: 1em; text-align: center; vertical-align: top\">IN</td>\n",
       "        <td style=\"padding-left: 1em; padding-right: 1em; text-align: center; vertical-align: top\">Asia/Kolkata</td>\n",
       "    </tr>\n",
       "    <tr>\n",
       "        <td style=\"padding-left: 1em; padding-right: 1em; text-align: center; vertical-align: top\">IN</td>\n",
       "        <td style=\"padding-left: 1em; padding-right: 1em; text-align: center; vertical-align: top\">Asia/Kolkata</td>\n",
       "    </tr>\n",
       "    <tr>\n",
       "        <td style=\"padding-left: 1em; padding-right: 1em; text-align: center; vertical-align: top\">IN</td>\n",
       "        <td style=\"padding-left: 1em; padding-right: 1em; text-align: center; vertical-align: top\">Asia/Kolkata</td>\n",
       "    </tr>\n",
       "    <tr>\n",
       "        <td style=\"padding-left: 1em; padding-right: 1em; text-align: center; vertical-align: top\">IN</td>\n",
       "        <td style=\"padding-left: 1em; padding-right: 1em; text-align: center; vertical-align: top\">Asia/Kolkata</td>\n",
       "    </tr>\n",
       "    <tr>\n",
       "        <td style=\"padding-left: 1em; padding-right: 1em; text-align: center; vertical-align: top\">IN</td>\n",
       "        <td style=\"padding-left: 1em; padding-right: 1em; text-align: center; vertical-align: top\">Asia/Kolkata</td>\n",
       "    </tr>\n",
       "    <tr>\n",
       "        <td style=\"padding-left: 1em; padding-right: 1em; text-align: center; vertical-align: top\">IN</td>\n",
       "        <td style=\"padding-left: 1em; padding-right: 1em; text-align: center; vertical-align: top\">Asia/Kolkata</td>\n",
       "    </tr>\n",
       "    <tr>\n",
       "        <td style=\"padding-left: 1em; padding-right: 1em; text-align: center; vertical-align: top\">IN</td>\n",
       "        <td style=\"padding-left: 1em; padding-right: 1em; text-align: center; vertical-align: top\">Asia/Kolkata</td>\n",
       "    </tr>\n",
       "    <tr>\n",
       "        <td style=\"padding-left: 1em; padding-right: 1em; text-align: center; vertical-align: top\">IN</td>\n",
       "        <td style=\"padding-left: 1em; padding-right: 1em; text-align: center; vertical-align: top\">Asia/Kolkata</td>\n",
       "    </tr>\n",
       "    <tr>\n",
       "        <td style=\"padding-left: 1em; padding-right: 1em; text-align: center; vertical-align: top\">IN</td>\n",
       "        <td style=\"padding-left: 1em; padding-right: 1em; text-align: center; vertical-align: top\">Asia/Kolkata</td>\n",
       "    </tr>\n",
       "</table>\n",
       "[100 rows x 8 columns]<br/>Note: Only the head of the SFrame is printed.<br/>You can use print_rows(num_rows=m, num_columns=n) to print more rows and columns.\n",
       "</div>"
      ],
      "text/plain": [
       "Columns:\n",
       "\tName\tstr\n",
       "\tJob\tstr\n",
       "\tAddress\tstr\n",
       "\tLat\tfloat\n",
       "\tLong\tfloat\n",
       "\tCity\tstr\n",
       "\tCountry\tstr\n",
       "\tTimezone\tstr\n",
       "\n",
       "Rows: 100\n",
       "\n",
       "Data:\n",
       "+-----------------------+--------------------------------+\n",
       "|          Name         |              Job               |\n",
       "+-----------------------+--------------------------------+\n",
       "|      Kevin Joyce      |    Forest/woodland manager     |\n",
       "|    Miguel Sandoval    |           Oncologist           |\n",
       "|     Rebecca Parker    |   Nurse, learning disability   |\n",
       "|       Sally Cruz      | Television/film/video producer |\n",
       "|   Kenneth Patterson   |         Cytogeneticist         |\n",
       "|    Andrea Trujillo    |             Banker             |\n",
       "|      Hannah Villa     |    Doctor, general practice    |\n",
       "| Benjamin Buchanan PhD |  Engineer, civil (consulting)  |\n",
       "|      Marcia Kelly     |           Homeopath            |\n",
       "|      Amanda Bruce     |      Early years teacher       |\n",
       "+-----------------------+--------------------------------+\n",
       "+-------------------------------+----------+----------+-------------+---------+\n",
       "|            Address            |   Lat    |   Long   |     City    | Country |\n",
       "+-------------------------------+----------+----------+-------------+---------+\n",
       "| 0021 Sandra Drive\\nSchroed... |  23.18   |  88.58   |   Aistala   |    IN   |\n",
       "|   USNS Thomas\\nFPO AA 48138   | 15.5439  | 73.7553  |  Calangute  |    IN   |\n",
       "| Unit 3094 Box 0713\\nDPO AA... |  23.18   |  88.58   |   Aistala   |    IN   |\n",
       "| 6562 Antonio Viaduct Suite... | 28.92694 | 78.23456 |  Bachhraon  |    IN   |\n",
       "| 22189 Marcus Gardens\\nHunt... | 23.49668 | 86.68363 |     Adra    |    IN   |\n",
       "| 2822 Wright Springs Suite ... | 15.45144 | 78.14797 | Betamcherla |    IN   |\n",
       "| 308 Katherine Falls Apt. 6... | 25.49043 | 85.94001 |    Teghra   |    IN   |\n",
       "| 1406 Campbell Fall\\nRobert... | 26.11527 | 86.59509 |    Supaul   |    IN   |\n",
       "| 9807 Bailey Turnpike\\nGood... | 14.62072 | 74.83554 |    Sirsi    |    IN   |\n",
       "| 9318 Hughes Land Apt. 345\\... | 21.46527 | 83.97573 |  Sambalpur  |    IN   |\n",
       "+-------------------------------+----------+----------+-------------+---------+\n",
       "+--------------+\n",
       "|   Timezone   |\n",
       "+--------------+\n",
       "| Asia/Kolkata |\n",
       "| Asia/Kolkata |\n",
       "| Asia/Kolkata |\n",
       "| Asia/Kolkata |\n",
       "| Asia/Kolkata |\n",
       "| Asia/Kolkata |\n",
       "| Asia/Kolkata |\n",
       "| Asia/Kolkata |\n",
       "| Asia/Kolkata |\n",
       "| Asia/Kolkata |\n",
       "+--------------+\n",
       "[100 rows x 8 columns]\n",
       "Note: Only the head of the SFrame is printed.\n",
       "You can use print_rows(num_rows=m, num_columns=n) to print more rows and columns."
      ]
     },
     "execution_count": 60,
     "metadata": {},
     "output_type": "execute_result"
    }
   ],
   "source": [
    "actions"
   ]
  },
  {
   "cell_type": "code",
   "execution_count": 67,
   "metadata": {},
   "outputs": [
    {
     "data": {
      "text/html": [
       "<pre>Finished parsing file /home/jospaulshajan/InOut6.0/travel_guider/travel_guider/dataset.csv</pre>"
      ],
      "text/plain": [
       "Finished parsing file /home/jospaulshajan/InOut6.0/travel_guider/travel_guider/dataset.csv"
      ]
     },
     "metadata": {},
     "output_type": "display_data"
    },
    {
     "data": {
      "text/html": [
       "<pre>Parsing completed. Parsed 100 lines in 0.237335 secs.</pre>"
      ],
      "text/plain": [
       "Parsing completed. Parsed 100 lines in 0.237335 secs."
      ]
     },
     "metadata": {},
     "output_type": "display_data"
    },
    {
     "name": "stdout",
     "output_type": "stream",
     "text": [
      "------------------------------------------------------\n",
      "Inferred types from first 100 line(s) of file as \n",
      "column_type_hints=[str,str,str,str,str,float,float,str,str,str]\n",
      "If parsing fails due to incorrect types, you can correct\n",
      "the inferred type list above and pass it to read_csv in\n",
      "the column_type_hints argument\n",
      "------------------------------------------------------\n"
     ]
    },
    {
     "data": {
      "text/html": [
       "<pre>Finished parsing file /home/jospaulshajan/InOut6.0/travel_guider/travel_guider/dataset.csv</pre>"
      ],
      "text/plain": [
       "Finished parsing file /home/jospaulshajan/InOut6.0/travel_guider/travel_guider/dataset.csv"
      ]
     },
     "metadata": {},
     "output_type": "display_data"
    },
    {
     "data": {
      "text/html": [
       "<pre>Parsing completed. Parsed 10000 lines in 0.088527 secs.</pre>"
      ],
      "text/plain": [
       "Parsing completed. Parsed 10000 lines in 0.088527 secs."
      ]
     },
     "metadata": {},
     "output_type": "display_data"
    }
   ],
   "source": [
    "import turicreate as tc\n",
    "actions = tc.SFrame.read_csv('dataset.csv')"
   ]
  },
  {
   "cell_type": "code",
   "execution_count": 68,
   "metadata": {},
   "outputs": [
    {
     "data": {
      "text/html": [
       "<pre>Warning: Ignoring columns gender, prefeerences, Job, Address, Lat, Long, Country, Timezone;</pre>"
      ],
      "text/plain": [
       "Warning: Ignoring columns gender, prefeerences, Job, Address, Lat, Long, Country, Timezone;"
      ]
     },
     "metadata": {},
     "output_type": "display_data"
    },
    {
     "data": {
      "text/html": [
       "<pre> To use one of these as a rating column, specify the column name to be used as target</pre>"
      ],
      "text/plain": [
       " To use one of these as a rating column, specify the column name to be used as target"
      ]
     },
     "metadata": {},
     "output_type": "display_data"
    },
    {
     "data": {
      "text/html": [
       "<pre>    and use a method that allows the use of a target.</pre>"
      ],
      "text/plain": [
       "    and use a method that allows the use of a target."
      ]
     },
     "metadata": {},
     "output_type": "display_data"
    },
    {
     "data": {
      "text/html": [
       "<pre>Preparing data set.</pre>"
      ],
      "text/plain": [
       "Preparing data set."
      ]
     },
     "metadata": {},
     "output_type": "display_data"
    },
    {
     "data": {
      "text/html": [
       "<pre>    Data has 10000 observations with 9373 users and 69 items.</pre>"
      ],
      "text/plain": [
       "    Data has 10000 observations with 9373 users and 69 items."
      ]
     },
     "metadata": {},
     "output_type": "display_data"
    },
    {
     "data": {
      "text/html": [
       "<pre>    Data prepared in: 0.098228s</pre>"
      ],
      "text/plain": [
       "    Data prepared in: 0.098228s"
      ]
     },
     "metadata": {},
     "output_type": "display_data"
    },
    {
     "data": {
      "text/html": [
       "<pre>Training model from provided data.</pre>"
      ],
      "text/plain": [
       "Training model from provided data."
      ]
     },
     "metadata": {},
     "output_type": "display_data"
    },
    {
     "data": {
      "text/html": [
       "<pre>Gathering per-item and per-user statistics.</pre>"
      ],
      "text/plain": [
       "Gathering per-item and per-user statistics."
      ]
     },
     "metadata": {},
     "output_type": "display_data"
    },
    {
     "data": {
      "text/html": [
       "<pre>+--------------------------------+------------+</pre>"
      ],
      "text/plain": [
       "+--------------------------------+------------+"
      ]
     },
     "metadata": {},
     "output_type": "display_data"
    },
    {
     "data": {
      "text/html": [
       "<pre>| Elapsed Time (Item Statistics) | % Complete |</pre>"
      ],
      "text/plain": [
       "| Elapsed Time (Item Statistics) | % Complete |"
      ]
     },
     "metadata": {},
     "output_type": "display_data"
    },
    {
     "data": {
      "text/html": [
       "<pre>+--------------------------------+------------+</pre>"
      ],
      "text/plain": [
       "+--------------------------------+------------+"
      ]
     },
     "metadata": {},
     "output_type": "display_data"
    },
    {
     "data": {
      "text/html": [
       "<pre>| 647us                          | 10.5       |</pre>"
      ],
      "text/plain": [
       "| 647us                          | 10.5       |"
      ]
     },
     "metadata": {},
     "output_type": "display_data"
    },
    {
     "data": {
      "text/html": [
       "<pre>| 6.861ms                        | 100        |</pre>"
      ],
      "text/plain": [
       "| 6.861ms                        | 100        |"
      ]
     },
     "metadata": {},
     "output_type": "display_data"
    },
    {
     "data": {
      "text/html": [
       "<pre>+--------------------------------+------------+</pre>"
      ],
      "text/plain": [
       "+--------------------------------+------------+"
      ]
     },
     "metadata": {},
     "output_type": "display_data"
    },
    {
     "data": {
      "text/html": [
       "<pre>Setting up lookup tables.</pre>"
      ],
      "text/plain": [
       "Setting up lookup tables."
      ]
     },
     "metadata": {},
     "output_type": "display_data"
    },
    {
     "data": {
      "text/html": [
       "<pre>Processing data in one pass using dense lookup tables.</pre>"
      ],
      "text/plain": [
       "Processing data in one pass using dense lookup tables."
      ]
     },
     "metadata": {},
     "output_type": "display_data"
    },
    {
     "data": {
      "text/html": [
       "<pre>+-------------------------------------+------------------+-----------------+</pre>"
      ],
      "text/plain": [
       "+-------------------------------------+------------------+-----------------+"
      ]
     },
     "metadata": {},
     "output_type": "display_data"
    },
    {
     "data": {
      "text/html": [
       "<pre>| Elapsed Time (Constructing Lookups) | Total % Complete | Items Processed |</pre>"
      ],
      "text/plain": [
       "| Elapsed Time (Constructing Lookups) | Total % Complete | Items Processed |"
      ]
     },
     "metadata": {},
     "output_type": "display_data"
    },
    {
     "data": {
      "text/html": [
       "<pre>+-------------------------------------+------------------+-----------------+</pre>"
      ],
      "text/plain": [
       "+-------------------------------------+------------------+-----------------+"
      ]
     },
     "metadata": {},
     "output_type": "display_data"
    },
    {
     "data": {
      "text/html": [
       "<pre>| 7.556ms                             | 0                | 0               |</pre>"
      ],
      "text/plain": [
       "| 7.556ms                             | 0                | 0               |"
      ]
     },
     "metadata": {},
     "output_type": "display_data"
    },
    {
     "data": {
      "text/html": [
       "<pre>| 11.988ms                            | 100              | 69              |</pre>"
      ],
      "text/plain": [
       "| 11.988ms                            | 100              | 69              |"
      ]
     },
     "metadata": {},
     "output_type": "display_data"
    },
    {
     "data": {
      "text/html": [
       "<pre>+-------------------------------------+------------------+-----------------+</pre>"
      ],
      "text/plain": [
       "+-------------------------------------+------------------+-----------------+"
      ]
     },
     "metadata": {},
     "output_type": "display_data"
    },
    {
     "data": {
      "text/html": [
       "<pre>Finalizing lookup tables.</pre>"
      ],
      "text/plain": [
       "Finalizing lookup tables."
      ]
     },
     "metadata": {},
     "output_type": "display_data"
    },
    {
     "data": {
      "text/html": [
       "<pre>Generating candidate set for working with new users.</pre>"
      ],
      "text/plain": [
       "Generating candidate set for working with new users."
      ]
     },
     "metadata": {},
     "output_type": "display_data"
    },
    {
     "data": {
      "text/html": [
       "<pre>Finished training in 0.016429s</pre>"
      ],
      "text/plain": [
       "Finished training in 0.016429s"
      ]
     },
     "metadata": {},
     "output_type": "display_data"
    }
   ],
   "source": [
    "model = tc.recommender.create(actions, 'Name', 'City')"
   ]
  },
  {
   "cell_type": "code",
   "execution_count": 69,
   "metadata": {},
   "outputs": [
    {
     "data": {
      "text/html": [
       "<pre>recommendations finished on 1000/9373 queries. users per second: 76893.5</pre>"
      ],
      "text/plain": [
       "recommendations finished on 1000/9373 queries. users per second: 76893.5"
      ]
     },
     "metadata": {},
     "output_type": "display_data"
    },
    {
     "data": {
      "text/html": [
       "<pre>recommendations finished on 2000/9373 queries. users per second: 84406</pre>"
      ],
      "text/plain": [
       "recommendations finished on 2000/9373 queries. users per second: 84406"
      ]
     },
     "metadata": {},
     "output_type": "display_data"
    },
    {
     "data": {
      "text/html": [
       "<pre>recommendations finished on 3000/9373 queries. users per second: 87486.5</pre>"
      ],
      "text/plain": [
       "recommendations finished on 3000/9373 queries. users per second: 87486.5"
      ]
     },
     "metadata": {},
     "output_type": "display_data"
    },
    {
     "data": {
      "text/html": [
       "<pre>recommendations finished on 4000/9373 queries. users per second: 90424.1</pre>"
      ],
      "text/plain": [
       "recommendations finished on 4000/9373 queries. users per second: 90424.1"
      ]
     },
     "metadata": {},
     "output_type": "display_data"
    },
    {
     "data": {
      "text/html": [
       "<pre>recommendations finished on 5000/9373 queries. users per second: 93011.1</pre>"
      ],
      "text/plain": [
       "recommendations finished on 5000/9373 queries. users per second: 93011.1"
      ]
     },
     "metadata": {},
     "output_type": "display_data"
    },
    {
     "data": {
      "text/html": [
       "<pre>recommendations finished on 6000/9373 queries. users per second: 92260.9</pre>"
      ],
      "text/plain": [
       "recommendations finished on 6000/9373 queries. users per second: 92260.9"
      ]
     },
     "metadata": {},
     "output_type": "display_data"
    },
    {
     "data": {
      "text/html": [
       "<pre>recommendations finished on 7000/9373 queries. users per second: 91840.6</pre>"
      ],
      "text/plain": [
       "recommendations finished on 7000/9373 queries. users per second: 91840.6"
      ]
     },
     "metadata": {},
     "output_type": "display_data"
    },
    {
     "data": {
      "text/html": [
       "<pre>recommendations finished on 8000/9373 queries. users per second: 90518.2</pre>"
      ],
      "text/plain": [
       "recommendations finished on 8000/9373 queries. users per second: 90518.2"
      ]
     },
     "metadata": {},
     "output_type": "display_data"
    },
    {
     "data": {
      "text/html": [
       "<pre>recommendations finished on 9000/9373 queries. users per second: 88735.5</pre>"
      ],
      "text/plain": [
       "recommendations finished on 9000/9373 queries. users per second: 88735.5"
      ]
     },
     "metadata": {},
     "output_type": "display_data"
    },
    {
     "data": {
      "text/plain": [
       "turicreate.data_structures.sframe.SFrame"
      ]
     },
     "execution_count": 69,
     "metadata": {},
     "output_type": "execute_result"
    }
   ],
   "source": [
    "type(model.recommend())"
   ]
  },
  {
   "cell_type": "code",
   "execution_count": 70,
   "metadata": {},
   "outputs": [
    {
     "data": {
      "text/html": [
       "<pre>recommendations finished on 1000/9373 queries. users per second: 53435.9</pre>"
      ],
      "text/plain": [
       "recommendations finished on 1000/9373 queries. users per second: 53435.9"
      ]
     },
     "metadata": {},
     "output_type": "display_data"
    },
    {
     "data": {
      "text/html": [
       "<pre>recommendations finished on 2000/9373 queries. users per second: 62272.3</pre>"
      ],
      "text/plain": [
       "recommendations finished on 2000/9373 queries. users per second: 62272.3"
      ]
     },
     "metadata": {},
     "output_type": "display_data"
    },
    {
     "data": {
      "text/html": [
       "<pre>recommendations finished on 3000/9373 queries. users per second: 71086.7</pre>"
      ],
      "text/plain": [
       "recommendations finished on 3000/9373 queries. users per second: 71086.7"
      ]
     },
     "metadata": {},
     "output_type": "display_data"
    },
    {
     "data": {
      "text/html": [
       "<pre>recommendations finished on 4000/9373 queries. users per second: 77438.3</pre>"
      ],
      "text/plain": [
       "recommendations finished on 4000/9373 queries. users per second: 77438.3"
      ]
     },
     "metadata": {},
     "output_type": "display_data"
    },
    {
     "data": {
      "text/html": [
       "<pre>recommendations finished on 5000/9373 queries. users per second: 82982</pre>"
      ],
      "text/plain": [
       "recommendations finished on 5000/9373 queries. users per second: 82982"
      ]
     },
     "metadata": {},
     "output_type": "display_data"
    },
    {
     "data": {
      "text/html": [
       "<pre>recommendations finished on 6000/9373 queries. users per second: 87605.3</pre>"
      ],
      "text/plain": [
       "recommendations finished on 6000/9373 queries. users per second: 87605.3"
      ]
     },
     "metadata": {},
     "output_type": "display_data"
    },
    {
     "data": {
      "text/html": [
       "<pre>recommendations finished on 7000/9373 queries. users per second: 90525.8</pre>"
      ],
      "text/plain": [
       "recommendations finished on 7000/9373 queries. users per second: 90525.8"
      ]
     },
     "metadata": {},
     "output_type": "display_data"
    },
    {
     "data": {
      "text/html": [
       "<pre>recommendations finished on 8000/9373 queries. users per second: 87229.6</pre>"
      ],
      "text/plain": [
       "recommendations finished on 8000/9373 queries. users per second: 87229.6"
      ]
     },
     "metadata": {},
     "output_type": "display_data"
    },
    {
     "data": {
      "text/html": [
       "<pre>recommendations finished on 9000/9373 queries. users per second: 88594</pre>"
      ],
      "text/plain": [
       "recommendations finished on 9000/9373 queries. users per second: 88594"
      ]
     },
     "metadata": {},
     "output_type": "display_data"
    },
    {
     "data": {
      "text/html": [
       "<div style=\"max-height:1000px;max-width:1500px;overflow:auto;\"><table frame=\"box\" rules=\"cols\">\n",
       "    <tr>\n",
       "        <th style=\"padding-left: 1em; padding-right: 1em; text-align: center\">Name</th>\n",
       "        <th style=\"padding-left: 1em; padding-right: 1em; text-align: center\">City</th>\n",
       "        <th style=\"padding-left: 1em; padding-right: 1em; text-align: center\">score</th>\n",
       "        <th style=\"padding-left: 1em; padding-right: 1em; text-align: center\">rank</th>\n",
       "    </tr>\n",
       "    <tr>\n",
       "        <td style=\"padding-left: 1em; padding-right: 1em; text-align: center; vertical-align: top\">Erin Cortez</td>\n",
       "        <td style=\"padding-left: 1em; padding-right: 1em; text-align: center; vertical-align: top\">Chharra</td>\n",
       "        <td style=\"padding-left: 1em; padding-right: 1em; text-align: center; vertical-align: top\">0.010948896408081055</td>\n",
       "        <td style=\"padding-left: 1em; padding-right: 1em; text-align: center; vertical-align: top\">1</td>\n",
       "    </tr>\n",
       "    <tr>\n",
       "        <td style=\"padding-left: 1em; padding-right: 1em; text-align: center; vertical-align: top\">Erin Cortez</td>\n",
       "        <td style=\"padding-left: 1em; padding-right: 1em; text-align: center; vertical-align: top\">Amreli</td>\n",
       "        <td style=\"padding-left: 1em; padding-right: 1em; text-align: center; vertical-align: top\">0.00724637508392334</td>\n",
       "        <td style=\"padding-left: 1em; padding-right: 1em; text-align: center; vertical-align: top\">2</td>\n",
       "    </tr>\n",
       "    <tr>\n",
       "        <td style=\"padding-left: 1em; padding-right: 1em; text-align: center; vertical-align: top\">Erin Cortez</td>\n",
       "        <td style=\"padding-left: 1em; padding-right: 1em; text-align: center; vertical-align: top\">Gariadhar</td>\n",
       "        <td style=\"padding-left: 1em; padding-right: 1em; text-align: center; vertical-align: top\">0.006825923919677734</td>\n",
       "        <td style=\"padding-left: 1em; padding-right: 1em; text-align: center; vertical-align: top\">3</td>\n",
       "    </tr>\n",
       "    <tr>\n",
       "        <td style=\"padding-left: 1em; padding-right: 1em; text-align: center; vertical-align: top\">Erin Cortez</td>\n",
       "        <td style=\"padding-left: 1em; padding-right: 1em; text-align: center; vertical-align: top\">Uran</td>\n",
       "        <td style=\"padding-left: 1em; padding-right: 1em; text-align: center; vertical-align: top\">0.006825923919677734</td>\n",
       "        <td style=\"padding-left: 1em; padding-right: 1em; text-align: center; vertical-align: top\">4</td>\n",
       "    </tr>\n",
       "    <tr>\n",
       "        <td style=\"padding-left: 1em; padding-right: 1em; text-align: center; vertical-align: top\">Erin Cortez</td>\n",
       "        <td style=\"padding-left: 1em; padding-right: 1em; text-align: center; vertical-align: top\">Rajaori</td>\n",
       "        <td style=\"padding-left: 1em; padding-right: 1em; text-align: center; vertical-align: top\">0.003731369972229004</td>\n",
       "        <td style=\"padding-left: 1em; padding-right: 1em; text-align: center; vertical-align: top\">5</td>\n",
       "    </tr>\n",
       "    <tr>\n",
       "        <td style=\"padding-left: 1em; padding-right: 1em; text-align: center; vertical-align: top\">Erin Cortez</td>\n",
       "        <td style=\"padding-left: 1em; padding-right: 1em; text-align: center; vertical-align: top\">Sathyamangalam</td>\n",
       "        <td style=\"padding-left: 1em; padding-right: 1em; text-align: center; vertical-align: top\">0.003717482089996338</td>\n",
       "        <td style=\"padding-left: 1em; padding-right: 1em; text-align: center; vertical-align: top\">6</td>\n",
       "    </tr>\n",
       "    <tr>\n",
       "        <td style=\"padding-left: 1em; padding-right: 1em; text-align: center; vertical-align: top\">Erin Cortez</td>\n",
       "        <td style=\"padding-left: 1em; padding-right: 1em; text-align: center; vertical-align: top\">Bhuban</td>\n",
       "        <td style=\"padding-left: 1em; padding-right: 1em; text-align: center; vertical-align: top\">0.003717482089996338</td>\n",
       "        <td style=\"padding-left: 1em; padding-right: 1em; text-align: center; vertical-align: top\">7</td>\n",
       "    </tr>\n",
       "    <tr>\n",
       "        <td style=\"padding-left: 1em; padding-right: 1em; text-align: center; vertical-align: top\">Erin Cortez</td>\n",
       "        <td style=\"padding-left: 1em; padding-right: 1em; text-align: center; vertical-align: top\">Kangayam</td>\n",
       "        <td style=\"padding-left: 1em; padding-right: 1em; text-align: center; vertical-align: top\">0.003690063953399658</td>\n",
       "        <td style=\"padding-left: 1em; padding-right: 1em; text-align: center; vertical-align: top\">8</td>\n",
       "    </tr>\n",
       "    <tr>\n",
       "        <td style=\"padding-left: 1em; padding-right: 1em; text-align: center; vertical-align: top\">Erin Cortez</td>\n",
       "        <td style=\"padding-left: 1em; padding-right: 1em; text-align: center; vertical-align: top\">Dombivli</td>\n",
       "        <td style=\"padding-left: 1em; padding-right: 1em; text-align: center; vertical-align: top\">0.003663003444671631</td>\n",
       "        <td style=\"padding-left: 1em; padding-right: 1em; text-align: center; vertical-align: top\">9</td>\n",
       "    </tr>\n",
       "    <tr>\n",
       "        <td style=\"padding-left: 1em; padding-right: 1em; text-align: center; vertical-align: top\">Erin Cortez</td>\n",
       "        <td style=\"padding-left: 1em; padding-right: 1em; text-align: center; vertical-align: top\">Barbil</td>\n",
       "        <td style=\"padding-left: 1em; padding-right: 1em; text-align: center; vertical-align: top\">0.003663003444671631</td>\n",
       "        <td style=\"padding-left: 1em; padding-right: 1em; text-align: center; vertical-align: top\">10</td>\n",
       "    </tr>\n",
       "</table>\n",
       "[93730 rows x 4 columns]<br/>Note: Only the head of the SFrame is printed.<br/>You can use print_rows(num_rows=m, num_columns=n) to print more rows and columns.\n",
       "</div>"
      ],
      "text/plain": [
       "Columns:\n",
       "\tName\tstr\n",
       "\tCity\tstr\n",
       "\tscore\tfloat\n",
       "\trank\tint\n",
       "\n",
       "Rows: 93730\n",
       "\n",
       "Data:\n",
       "+-------------+----------------+----------------------+------+\n",
       "|     Name    |      City      |        score         | rank |\n",
       "+-------------+----------------+----------------------+------+\n",
       "| Erin Cortez |    Chharra     | 0.010948896408081055 |  1   |\n",
       "| Erin Cortez |     Amreli     | 0.00724637508392334  |  2   |\n",
       "| Erin Cortez |   Gariadhar    | 0.006825923919677734 |  3   |\n",
       "| Erin Cortez |      Uran      | 0.006825923919677734 |  4   |\n",
       "| Erin Cortez |    Rajaori     | 0.003731369972229004 |  5   |\n",
       "| Erin Cortez | Sathyamangalam | 0.003717482089996338 |  6   |\n",
       "| Erin Cortez |     Bhuban     | 0.003717482089996338 |  7   |\n",
       "| Erin Cortez |    Kangayam    | 0.003690063953399658 |  8   |\n",
       "| Erin Cortez |    Dombivli    | 0.003663003444671631 |  9   |\n",
       "| Erin Cortez |     Barbil     | 0.003663003444671631 |  10  |\n",
       "+-------------+----------------+----------------------+------+\n",
       "[93730 rows x 4 columns]\n",
       "Note: Only the head of the SFrame is printed.\n",
       "You can use print_rows(num_rows=m, num_columns=n) to print more rows and columns."
      ]
     },
     "execution_count": 70,
     "metadata": {},
     "output_type": "execute_result"
    }
   ],
   "source": [
    "model.recommend()"
   ]
  },
  {
   "cell_type": "code",
   "execution_count": null,
   "metadata": {},
   "outputs": [],
   "source": []
  }
 ],
 "metadata": {
  "kernelspec": {
   "display_name": "Python 3",
   "language": "python",
   "name": "python3"
  },
  "language_info": {
   "codemirror_mode": {
    "name": "ipython",
    "version": 3
   },
   "file_extension": ".py",
   "mimetype": "text/x-python",
   "name": "python",
   "nbconvert_exporter": "python",
   "pygments_lexer": "ipython3",
   "version": "3.6.8"
  }
 },
 "nbformat": 4,
 "nbformat_minor": 2
}
