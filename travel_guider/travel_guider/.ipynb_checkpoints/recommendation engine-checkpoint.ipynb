{
 "cells": [
  {
   "cell_type": "code",
   "execution_count": null,
   "metadata": {},
   "outputs": [],
   "source": []
  },
  {
   "cell_type": "markdown",
   "metadata": {},
   "source": [
    "## Data Conversion to CSV files \n",
    "\n",
    "We generated 100 data points using faker library. We need more features like:\n",
    "- Age\n",
    "- Native language\n",
    "- Expense choices"
   ]
  },
  {
   "cell_type": "code",
   "execution_count": 41,
   "metadata": {},
   "outputs": [
    {
     "name": "stdout",
     "output_type": "stream",
     "text": [
      "                 Name  gender                                  Job  \\\n",
      "0   Christine Jackson  Female             Advertising art director   \n",
      "1        James Bolton  Female                     Sports therapist   \n",
      "2         Mark Norman  Female           Museum/gallery conservator   \n",
      "3        Samuel Mason  Female             Print production planner   \n",
      "4        Angela Hanna  Female                       Phytotherapist   \n",
      "..                ...     ...                                  ...   \n",
      "95   Andrew Rodriguez    Male               Occupational hygienist   \n",
      "96    Kristen Stewart    Male  Social research officer, government   \n",
      "97    Cynthia Benitez    Male                          Hydrologist   \n",
      "98      Jacob Mueller    Male                       Pharmacologist   \n",
      "99          Todd Wong    Male               Sales professional, IT   \n",
      "\n",
      "                                              Address  \\\n",
      "0                898 Timothy Loop\\nNew Anna, CT 26951   \n",
      "1             26397 Leslie Burg\\nCathymouth, LA 20448   \n",
      "2    393 Darlene Springs Apt. 791\\nMaymouth, MD 47614   \n",
      "3             15424 Ryan Ports\\nBarbarafurt, MN 05678   \n",
      "4           0444 Savage Turnpike\\nWiseville, HI 82471   \n",
      "..                                                ...   \n",
      "95                   PSC 8412, Box 6307\\nAPO AP 00687   \n",
      "96    721 Christopher Junctions\\nDennisside, SD 65290   \n",
      "97     185 Brooke Cove\\nPort Christianmouth, CO 93537   \n",
      "98         83216 Barr Overpass\\nWest Nicole, CA 52229   \n",
      "99  62881 Kevin Shores Apt. 280\\nJosephchester, NM...   \n",
      "\n",
      "                                         Co-ordinates  \n",
      "0    (19.21667, 73.08333, Dombivli, IN, Asia/Kolkata)  \n",
      "1       (22.75218, 72.68533, Kheda, IN, Asia/Kolkata)  \n",
      "2      (22.10194, 85.37752, Barbil, IN, Asia/Kolkata)  \n",
      "3   (12.04161, 75.35927, Talipparamba, IN, Asia/Ko...  \n",
      "4         (26.2649, 81.54855, Jais, IN, Asia/Kolkata)  \n",
      "..                                                ...  \n",
      "95  (10.58806, 77.24779, Udumalaippettai, IN, Asia...  \n",
      "96      (14.62072, 74.83554, Sirsi, IN, Asia/Kolkata)  \n",
      "97   (29.21399, 78.95693, Kashipur, IN, Asia/Kolkata)  \n",
      "98   (19.21667, 73.08333, Dombivli, IN, Asia/Kolkata)  \n",
      "99  (21.46527, 83.97573, Sambalpur, IN, Asia/Kolkata)  \n",
      "\n",
      "[100 rows x 5 columns]\n"
     ]
    }
   ],
   "source": [
    "from faker import Faker\n",
    "from faker.providers import internet, geo\n",
    "import pandas as pd\n",
    "import random\n",
    "\n",
    "faker = Faker()\n",
    "df = []\n",
    "gender = ['Male','Female']\n",
    "class = ['B']\n",
    "\n",
    "for n in range(100):\n",
    "    df.append({'Name':faker.name(), 'gender': gender[random.randint(0,1)] ,'Job':faker.job() ,'Address':faker.address(), 'Co-ordinates':faker.local_latlng(country_code=\"IN\", coords_only=False)})\n",
    "\n",
    "df =  pd.DataFrame(df)\n",
    "print(df)\n"
   ]
  },
  {
   "cell_type": "code",
   "execution_count": 3,
   "metadata": {},
   "outputs": [
    {
     "data": {
      "text/html": [
       "<div>\n",
       "<style scoped>\n",
       "    .dataframe tbody tr th:only-of-type {\n",
       "        vertical-align: middle;\n",
       "    }\n",
       "\n",
       "    .dataframe tbody tr th {\n",
       "        vertical-align: top;\n",
       "    }\n",
       "\n",
       "    .dataframe thead th {\n",
       "        text-align: right;\n",
       "    }\n",
       "</style>\n",
       "<table border=\"1\" class=\"dataframe\">\n",
       "  <thead>\n",
       "    <tr style=\"text-align: right;\">\n",
       "      <th></th>\n",
       "      <th>Name</th>\n",
       "      <th>Job</th>\n",
       "      <th>Address</th>\n",
       "      <th>Co-ordinates</th>\n",
       "    </tr>\n",
       "  </thead>\n",
       "  <tbody>\n",
       "    <tr>\n",
       "      <th>0</th>\n",
       "      <td>Kevin Joyce</td>\n",
       "      <td>Forest/woodland manager</td>\n",
       "      <td>0021 Sandra Drive\\nSchroederstad, ID 44958</td>\n",
       "      <td>(23.18, 88.58, Aistala, IN, Asia/Kolkata)</td>\n",
       "    </tr>\n",
       "    <tr>\n",
       "      <th>1</th>\n",
       "      <td>Miguel Sandoval</td>\n",
       "      <td>Oncologist</td>\n",
       "      <td>USNS Thomas\\nFPO AA 48138</td>\n",
       "      <td>(15.5439, 73.7553, Calangute, IN, Asia/Kolkata)</td>\n",
       "    </tr>\n",
       "    <tr>\n",
       "      <th>2</th>\n",
       "      <td>Rebecca Parker</td>\n",
       "      <td>Nurse, learning disability</td>\n",
       "      <td>Unit 3094 Box 0713\\nDPO AA 13320</td>\n",
       "      <td>(23.18, 88.58, Aistala, IN, Asia/Kolkata)</td>\n",
       "    </tr>\n",
       "    <tr>\n",
       "      <th>3</th>\n",
       "      <td>Sally Cruz</td>\n",
       "      <td>Television/film/video producer</td>\n",
       "      <td>6562 Antonio Viaduct Suite 229\\nNew Larryside,...</td>\n",
       "      <td>(28.92694, 78.23456, Bachhraon, IN, Asia/Kolkata)</td>\n",
       "    </tr>\n",
       "    <tr>\n",
       "      <th>4</th>\n",
       "      <td>Kenneth Patterson</td>\n",
       "      <td>Cytogeneticist</td>\n",
       "      <td>22189 Marcus Gardens\\nHuntertown, WI 74390</td>\n",
       "      <td>(23.49668, 86.68363, Adra, IN, Asia/Kolkata)</td>\n",
       "    </tr>\n",
       "  </tbody>\n",
       "</table>\n",
       "</div>"
      ],
      "text/plain": [
       "                Name                             Job  \\\n",
       "0        Kevin Joyce         Forest/woodland manager   \n",
       "1    Miguel Sandoval                      Oncologist   \n",
       "2     Rebecca Parker      Nurse, learning disability   \n",
       "3         Sally Cruz  Television/film/video producer   \n",
       "4  Kenneth Patterson                  Cytogeneticist   \n",
       "\n",
       "                                             Address  \\\n",
       "0         0021 Sandra Drive\\nSchroederstad, ID 44958   \n",
       "1                          USNS Thomas\\nFPO AA 48138   \n",
       "2                   Unit 3094 Box 0713\\nDPO AA 13320   \n",
       "3  6562 Antonio Viaduct Suite 229\\nNew Larryside,...   \n",
       "4         22189 Marcus Gardens\\nHuntertown, WI 74390   \n",
       "\n",
       "                                        Co-ordinates  \n",
       "0          (23.18, 88.58, Aistala, IN, Asia/Kolkata)  \n",
       "1    (15.5439, 73.7553, Calangute, IN, Asia/Kolkata)  \n",
       "2          (23.18, 88.58, Aistala, IN, Asia/Kolkata)  \n",
       "3  (28.92694, 78.23456, Bachhraon, IN, Asia/Kolkata)  \n",
       "4       (23.49668, 86.68363, Adra, IN, Asia/Kolkata)  "
      ]
     },
     "execution_count": 3,
     "metadata": {},
     "output_type": "execute_result"
    }
   ],
   "source": [
    "df.head(5)"
   ]
  },
  {
   "cell_type": "code",
   "execution_count": 9,
   "metadata": {},
   "outputs": [
    {
     "data": {
      "text/plain": [
       "0         Aistala\n",
       "1       Calangute\n",
       "2         Aistala\n",
       "3       Bachhraon\n",
       "4            Adra\n",
       "         ...     \n",
       "95         Kundla\n",
       "96    Betamcherla\n",
       "97          Kheda\n",
       "98      Gariadhar\n",
       "99       Srinagar\n",
       "Name: Co-ordinates, Length: 100, dtype: object"
      ]
     },
     "execution_count": 9,
     "metadata": {},
     "output_type": "execute_result"
    }
   ],
   "source": [
    "df['Co-ordinates'].str[2]"
   ]
  },
  {
   "cell_type": "code",
   "execution_count": 13,
   "metadata": {},
   "outputs": [],
   "source": [
    "# Best way to clean data\n",
    "df['Lat'], df['Long'], df['City'], df['Country'], df['Timezone'] = zip(*df['Co-ordinates'])"
   ]
  },
  {
   "cell_type": "code",
   "execution_count": 16,
   "metadata": {},
   "outputs": [],
   "source": [
    "del df['Co-ordinates']"
   ]
  },
  {
   "cell_type": "code",
   "execution_count": 34,
   "metadata": {},
   "outputs": [],
   "source": [
    "df.to_csv('dataset.csv',index=False)"
   ]
  },
  {
   "cell_type": "markdown",
   "metadata": {},
   "source": [
    "## Create a recommender system\n",
    "\n",
    "**Resources**\n",
    "\n",
    "- https://www.analyticsvidhya.com/blog/2018/06/comprehensive-guide-recommendation-engine-python/\n",
    "- https://apple.github.io/turicreate/docs/userguide/recommender/\n",
    "- https://www.analyticsvidhya.com/blog/2015/12/started-graphlab-python/\n",
    "- https://github.com/turi-code/tutorials"
   ]
  },
  {
   "cell_type": "code",
   "execution_count": 20,
   "metadata": {},
   "outputs": [
    {
     "data": {
      "text/plain": [
       "100"
      ]
     },
     "execution_count": 20,
     "metadata": {},
     "output_type": "execute_result"
    }
   ],
   "source": [
    "df['Name'].nunique()"
   ]
  },
  {
   "cell_type": "code",
   "execution_count": 38,
   "metadata": {
    "scrolled": true
   },
   "outputs": [
    {
     "data": {
      "text/html": [
       "<div style=\"max-height:1000px;max-width:1500px;overflow:auto;\"><table frame=\"box\" rules=\"cols\">\n",
       "    <tr>\n",
       "        <th style=\"padding-left: 1em; padding-right: 1em; text-align: center\">Name</th>\n",
       "        <th style=\"padding-left: 1em; padding-right: 1em; text-align: center\">Job</th>\n",
       "        <th style=\"padding-left: 1em; padding-right: 1em; text-align: center\">Address</th>\n",
       "        <th style=\"padding-left: 1em; padding-right: 1em; text-align: center\">Lat</th>\n",
       "        <th style=\"padding-left: 1em; padding-right: 1em; text-align: center\">Long</th>\n",
       "        <th style=\"padding-left: 1em; padding-right: 1em; text-align: center\">City</th>\n",
       "    </tr>\n",
       "    <tr>\n",
       "        <td style=\"padding-left: 1em; padding-right: 1em; text-align: center; vertical-align: top\">Kevin Joyce</td>\n",
       "        <td style=\"padding-left: 1em; padding-right: 1em; text-align: center; vertical-align: top\">Forest/woodland manager</td>\n",
       "        <td style=\"padding-left: 1em; padding-right: 1em; text-align: center; vertical-align: top\">0021 Sandra<br>Drive\\nSchroederstad, ID ...</td>\n",
       "        <td style=\"padding-left: 1em; padding-right: 1em; text-align: center; vertical-align: top\">23.18</td>\n",
       "        <td style=\"padding-left: 1em; padding-right: 1em; text-align: center; vertical-align: top\">88.58</td>\n",
       "        <td style=\"padding-left: 1em; padding-right: 1em; text-align: center; vertical-align: top\">Aistala</td>\n",
       "    </tr>\n",
       "    <tr>\n",
       "        <td style=\"padding-left: 1em; padding-right: 1em; text-align: center; vertical-align: top\">Miguel Sandoval</td>\n",
       "        <td style=\"padding-left: 1em; padding-right: 1em; text-align: center; vertical-align: top\">Oncologist</td>\n",
       "        <td style=\"padding-left: 1em; padding-right: 1em; text-align: center; vertical-align: top\">USNS Thomas\\nFPO AA 48138</td>\n",
       "        <td style=\"padding-left: 1em; padding-right: 1em; text-align: center; vertical-align: top\">15.5439</td>\n",
       "        <td style=\"padding-left: 1em; padding-right: 1em; text-align: center; vertical-align: top\">73.7553</td>\n",
       "        <td style=\"padding-left: 1em; padding-right: 1em; text-align: center; vertical-align: top\">Calangute</td>\n",
       "    </tr>\n",
       "    <tr>\n",
       "        <td style=\"padding-left: 1em; padding-right: 1em; text-align: center; vertical-align: top\">Rebecca Parker</td>\n",
       "        <td style=\"padding-left: 1em; padding-right: 1em; text-align: center; vertical-align: top\">Nurse, learning<br>disability ...</td>\n",
       "        <td style=\"padding-left: 1em; padding-right: 1em; text-align: center; vertical-align: top\">Unit 3094 Box 0713\\nDPO<br>AA 13320 ...</td>\n",
       "        <td style=\"padding-left: 1em; padding-right: 1em; text-align: center; vertical-align: top\">23.18</td>\n",
       "        <td style=\"padding-left: 1em; padding-right: 1em; text-align: center; vertical-align: top\">88.58</td>\n",
       "        <td style=\"padding-left: 1em; padding-right: 1em; text-align: center; vertical-align: top\">Aistala</td>\n",
       "    </tr>\n",
       "    <tr>\n",
       "        <td style=\"padding-left: 1em; padding-right: 1em; text-align: center; vertical-align: top\">Sally Cruz</td>\n",
       "        <td style=\"padding-left: 1em; padding-right: 1em; text-align: center; vertical-align: top\">Television/film/video<br>producer ...</td>\n",
       "        <td style=\"padding-left: 1em; padding-right: 1em; text-align: center; vertical-align: top\">6562 Antonio Viaduct<br>Suite 229\\nNew Larrys ...</td>\n",
       "        <td style=\"padding-left: 1em; padding-right: 1em; text-align: center; vertical-align: top\">28.92694</td>\n",
       "        <td style=\"padding-left: 1em; padding-right: 1em; text-align: center; vertical-align: top\">78.23456</td>\n",
       "        <td style=\"padding-left: 1em; padding-right: 1em; text-align: center; vertical-align: top\">Bachhraon</td>\n",
       "    </tr>\n",
       "    <tr>\n",
       "        <td style=\"padding-left: 1em; padding-right: 1em; text-align: center; vertical-align: top\">Kenneth Patterson</td>\n",
       "        <td style=\"padding-left: 1em; padding-right: 1em; text-align: center; vertical-align: top\">Cytogeneticist</td>\n",
       "        <td style=\"padding-left: 1em; padding-right: 1em; text-align: center; vertical-align: top\">22189 Marcus<br>Gardens\\nHuntertown, WI ...</td>\n",
       "        <td style=\"padding-left: 1em; padding-right: 1em; text-align: center; vertical-align: top\">23.49668</td>\n",
       "        <td style=\"padding-left: 1em; padding-right: 1em; text-align: center; vertical-align: top\">86.68363</td>\n",
       "        <td style=\"padding-left: 1em; padding-right: 1em; text-align: center; vertical-align: top\">Adra</td>\n",
       "    </tr>\n",
       "    <tr>\n",
       "        <td style=\"padding-left: 1em; padding-right: 1em; text-align: center; vertical-align: top\">Andrea Trujillo</td>\n",
       "        <td style=\"padding-left: 1em; padding-right: 1em; text-align: center; vertical-align: top\">Banker</td>\n",
       "        <td style=\"padding-left: 1em; padding-right: 1em; text-align: center; vertical-align: top\">2822 Wright Springs Suite<br>604\\nNorth Lauren, MN ...</td>\n",
       "        <td style=\"padding-left: 1em; padding-right: 1em; text-align: center; vertical-align: top\">15.45144</td>\n",
       "        <td style=\"padding-left: 1em; padding-right: 1em; text-align: center; vertical-align: top\">78.14797</td>\n",
       "        <td style=\"padding-left: 1em; padding-right: 1em; text-align: center; vertical-align: top\">Betamcherla</td>\n",
       "    </tr>\n",
       "    <tr>\n",
       "        <td style=\"padding-left: 1em; padding-right: 1em; text-align: center; vertical-align: top\">Hannah Villa</td>\n",
       "        <td style=\"padding-left: 1em; padding-right: 1em; text-align: center; vertical-align: top\">Doctor, general practice</td>\n",
       "        <td style=\"padding-left: 1em; padding-right: 1em; text-align: center; vertical-align: top\">308 Katherine Falls Apt.<br>663\\nThomasbury, ME 2 ...</td>\n",
       "        <td style=\"padding-left: 1em; padding-right: 1em; text-align: center; vertical-align: top\">25.49043</td>\n",
       "        <td style=\"padding-left: 1em; padding-right: 1em; text-align: center; vertical-align: top\">85.94001</td>\n",
       "        <td style=\"padding-left: 1em; padding-right: 1em; text-align: center; vertical-align: top\">Teghra</td>\n",
       "    </tr>\n",
       "    <tr>\n",
       "        <td style=\"padding-left: 1em; padding-right: 1em; text-align: center; vertical-align: top\">Benjamin Buchanan PhD</td>\n",
       "        <td style=\"padding-left: 1em; padding-right: 1em; text-align: center; vertical-align: top\">Engineer, civil<br>(consulting) ...</td>\n",
       "        <td style=\"padding-left: 1em; padding-right: 1em; text-align: center; vertical-align: top\">1406 Campbell<br>Fall\\nRobertbury, WY ...</td>\n",
       "        <td style=\"padding-left: 1em; padding-right: 1em; text-align: center; vertical-align: top\">26.11527</td>\n",
       "        <td style=\"padding-left: 1em; padding-right: 1em; text-align: center; vertical-align: top\">86.59509</td>\n",
       "        <td style=\"padding-left: 1em; padding-right: 1em; text-align: center; vertical-align: top\">Supaul</td>\n",
       "    </tr>\n",
       "    <tr>\n",
       "        <td style=\"padding-left: 1em; padding-right: 1em; text-align: center; vertical-align: top\">Marcia Kelly</td>\n",
       "        <td style=\"padding-left: 1em; padding-right: 1em; text-align: center; vertical-align: top\">Homeopath</td>\n",
       "        <td style=\"padding-left: 1em; padding-right: 1em; text-align: center; vertical-align: top\">9807 Bailey<br>Turnpike\\nGoodmanberg ...</td>\n",
       "        <td style=\"padding-left: 1em; padding-right: 1em; text-align: center; vertical-align: top\">14.62072</td>\n",
       "        <td style=\"padding-left: 1em; padding-right: 1em; text-align: center; vertical-align: top\">74.83554</td>\n",
       "        <td style=\"padding-left: 1em; padding-right: 1em; text-align: center; vertical-align: top\">Sirsi</td>\n",
       "    </tr>\n",
       "    <tr>\n",
       "        <td style=\"padding-left: 1em; padding-right: 1em; text-align: center; vertical-align: top\">Amanda Bruce</td>\n",
       "        <td style=\"padding-left: 1em; padding-right: 1em; text-align: center; vertical-align: top\">Early years teacher</td>\n",
       "        <td style=\"padding-left: 1em; padding-right: 1em; text-align: center; vertical-align: top\">9318 Hughes Land Apt.<br>345\\nNew Michellebury ...</td>\n",
       "        <td style=\"padding-left: 1em; padding-right: 1em; text-align: center; vertical-align: top\">21.46527</td>\n",
       "        <td style=\"padding-left: 1em; padding-right: 1em; text-align: center; vertical-align: top\">83.97573</td>\n",
       "        <td style=\"padding-left: 1em; padding-right: 1em; text-align: center; vertical-align: top\">Sambalpur</td>\n",
       "    </tr>\n",
       "</table>\n",
       "<table frame=\"box\" rules=\"cols\">\n",
       "    <tr>\n",
       "        <th style=\"padding-left: 1em; padding-right: 1em; text-align: center\">Country</th>\n",
       "        <th style=\"padding-left: 1em; padding-right: 1em; text-align: center\">Timezone</th>\n",
       "    </tr>\n",
       "    <tr>\n",
       "        <td style=\"padding-left: 1em; padding-right: 1em; text-align: center; vertical-align: top\">IN</td>\n",
       "        <td style=\"padding-left: 1em; padding-right: 1em; text-align: center; vertical-align: top\">Asia/Kolkata</td>\n",
       "    </tr>\n",
       "    <tr>\n",
       "        <td style=\"padding-left: 1em; padding-right: 1em; text-align: center; vertical-align: top\">IN</td>\n",
       "        <td style=\"padding-left: 1em; padding-right: 1em; text-align: center; vertical-align: top\">Asia/Kolkata</td>\n",
       "    </tr>\n",
       "    <tr>\n",
       "        <td style=\"padding-left: 1em; padding-right: 1em; text-align: center; vertical-align: top\">IN</td>\n",
       "        <td style=\"padding-left: 1em; padding-right: 1em; text-align: center; vertical-align: top\">Asia/Kolkata</td>\n",
       "    </tr>\n",
       "    <tr>\n",
       "        <td style=\"padding-left: 1em; padding-right: 1em; text-align: center; vertical-align: top\">IN</td>\n",
       "        <td style=\"padding-left: 1em; padding-right: 1em; text-align: center; vertical-align: top\">Asia/Kolkata</td>\n",
       "    </tr>\n",
       "    <tr>\n",
       "        <td style=\"padding-left: 1em; padding-right: 1em; text-align: center; vertical-align: top\">IN</td>\n",
       "        <td style=\"padding-left: 1em; padding-right: 1em; text-align: center; vertical-align: top\">Asia/Kolkata</td>\n",
       "    </tr>\n",
       "    <tr>\n",
       "        <td style=\"padding-left: 1em; padding-right: 1em; text-align: center; vertical-align: top\">IN</td>\n",
       "        <td style=\"padding-left: 1em; padding-right: 1em; text-align: center; vertical-align: top\">Asia/Kolkata</td>\n",
       "    </tr>\n",
       "    <tr>\n",
       "        <td style=\"padding-left: 1em; padding-right: 1em; text-align: center; vertical-align: top\">IN</td>\n",
       "        <td style=\"padding-left: 1em; padding-right: 1em; text-align: center; vertical-align: top\">Asia/Kolkata</td>\n",
       "    </tr>\n",
       "    <tr>\n",
       "        <td style=\"padding-left: 1em; padding-right: 1em; text-align: center; vertical-align: top\">IN</td>\n",
       "        <td style=\"padding-left: 1em; padding-right: 1em; text-align: center; vertical-align: top\">Asia/Kolkata</td>\n",
       "    </tr>\n",
       "    <tr>\n",
       "        <td style=\"padding-left: 1em; padding-right: 1em; text-align: center; vertical-align: top\">IN</td>\n",
       "        <td style=\"padding-left: 1em; padding-right: 1em; text-align: center; vertical-align: top\">Asia/Kolkata</td>\n",
       "    </tr>\n",
       "    <tr>\n",
       "        <td style=\"padding-left: 1em; padding-right: 1em; text-align: center; vertical-align: top\">IN</td>\n",
       "        <td style=\"padding-left: 1em; padding-right: 1em; text-align: center; vertical-align: top\">Asia/Kolkata</td>\n",
       "    </tr>\n",
       "</table>\n",
       "[100 rows x 8 columns]<br/>Note: Only the head of the SFrame is printed.<br/>You can use print_rows(num_rows=m, num_columns=n) to print more rows and columns.\n",
       "</div>"
      ],
      "text/plain": [
       "Columns:\n",
       "\tName\tstr\n",
       "\tJob\tstr\n",
       "\tAddress\tstr\n",
       "\tLat\tfloat\n",
       "\tLong\tfloat\n",
       "\tCity\tstr\n",
       "\tCountry\tstr\n",
       "\tTimezone\tstr\n",
       "\n",
       "Rows: 100\n",
       "\n",
       "Data:\n",
       "+-----------------------+--------------------------------+\n",
       "|          Name         |              Job               |\n",
       "+-----------------------+--------------------------------+\n",
       "|      Kevin Joyce      |    Forest/woodland manager     |\n",
       "|    Miguel Sandoval    |           Oncologist           |\n",
       "|     Rebecca Parker    |   Nurse, learning disability   |\n",
       "|       Sally Cruz      | Television/film/video producer |\n",
       "|   Kenneth Patterson   |         Cytogeneticist         |\n",
       "|    Andrea Trujillo    |             Banker             |\n",
       "|      Hannah Villa     |    Doctor, general practice    |\n",
       "| Benjamin Buchanan PhD |  Engineer, civil (consulting)  |\n",
       "|      Marcia Kelly     |           Homeopath            |\n",
       "|      Amanda Bruce     |      Early years teacher       |\n",
       "+-----------------------+--------------------------------+\n",
       "+-------------------------------+----------+----------+-------------+---------+\n",
       "|            Address            |   Lat    |   Long   |     City    | Country |\n",
       "+-------------------------------+----------+----------+-------------+---------+\n",
       "| 0021 Sandra Drive\\nSchroed... |  23.18   |  88.58   |   Aistala   |    IN   |\n",
       "|   USNS Thomas\\nFPO AA 48138   | 15.5439  | 73.7553  |  Calangute  |    IN   |\n",
       "| Unit 3094 Box 0713\\nDPO AA... |  23.18   |  88.58   |   Aistala   |    IN   |\n",
       "| 6562 Antonio Viaduct Suite... | 28.92694 | 78.23456 |  Bachhraon  |    IN   |\n",
       "| 22189 Marcus Gardens\\nHunt... | 23.49668 | 86.68363 |     Adra    |    IN   |\n",
       "| 2822 Wright Springs Suite ... | 15.45144 | 78.14797 | Betamcherla |    IN   |\n",
       "| 308 Katherine Falls Apt. 6... | 25.49043 | 85.94001 |    Teghra   |    IN   |\n",
       "| 1406 Campbell Fall\\nRobert... | 26.11527 | 86.59509 |    Supaul   |    IN   |\n",
       "| 9807 Bailey Turnpike\\nGood... | 14.62072 | 74.83554 |    Sirsi    |    IN   |\n",
       "| 9318 Hughes Land Apt. 345\\... | 21.46527 | 83.97573 |  Sambalpur  |    IN   |\n",
       "+-------------------------------+----------+----------+-------------+---------+\n",
       "+--------------+\n",
       "|   Timezone   |\n",
       "+--------------+\n",
       "| Asia/Kolkata |\n",
       "| Asia/Kolkata |\n",
       "| Asia/Kolkata |\n",
       "| Asia/Kolkata |\n",
       "| Asia/Kolkata |\n",
       "| Asia/Kolkata |\n",
       "| Asia/Kolkata |\n",
       "| Asia/Kolkata |\n",
       "| Asia/Kolkata |\n",
       "| Asia/Kolkata |\n",
       "+--------------+\n",
       "[100 rows x 8 columns]\n",
       "Note: Only the head of the SFrame is printed.\n",
       "You can use print_rows(num_rows=m, num_columns=n) to print more rows and columns."
      ]
     },
     "execution_count": 38,
     "metadata": {},
     "output_type": "execute_result"
    }
   ],
   "source": [
    "actions"
   ]
  },
  {
   "cell_type": "code",
   "execution_count": 35,
   "metadata": {},
   "outputs": [
    {
     "data": {
      "text/html": [
       "<pre>Finished parsing file /home/jospaulshajan/InOut6.0/travel_guider/travel_guider/dataset.csv</pre>"
      ],
      "text/plain": [
       "Finished parsing file /home/jospaulshajan/InOut6.0/travel_guider/travel_guider/dataset.csv"
      ]
     },
     "metadata": {},
     "output_type": "display_data"
    },
    {
     "data": {
      "text/html": [
       "<pre>Parsing completed. Parsed 100 lines in 0.129115 secs.</pre>"
      ],
      "text/plain": [
       "Parsing completed. Parsed 100 lines in 0.129115 secs."
      ]
     },
     "metadata": {},
     "output_type": "display_data"
    },
    {
     "name": "stdout",
     "output_type": "stream",
     "text": [
      "------------------------------------------------------\n",
      "Inferred types from first 100 line(s) of file as \n",
      "column_type_hints=[str,str,str,float,float,str,str,str]\n",
      "If parsing fails due to incorrect types, you can correct\n",
      "the inferred type list above and pass it to read_csv in\n",
      "the column_type_hints argument\n",
      "------------------------------------------------------\n"
     ]
    },
    {
     "data": {
      "text/html": [
       "<pre>Finished parsing file /home/jospaulshajan/InOut6.0/travel_guider/travel_guider/dataset.csv</pre>"
      ],
      "text/plain": [
       "Finished parsing file /home/jospaulshajan/InOut6.0/travel_guider/travel_guider/dataset.csv"
      ]
     },
     "metadata": {},
     "output_type": "display_data"
    },
    {
     "data": {
      "text/html": [
       "<pre>Parsing completed. Parsed 100 lines in 0.064265 secs.</pre>"
      ],
      "text/plain": [
       "Parsing completed. Parsed 100 lines in 0.064265 secs."
      ]
     },
     "metadata": {},
     "output_type": "display_data"
    }
   ],
   "source": [
    "import turicreate as tc\n",
    "actions = tc.SFrame.read_csv('dataset.csv')"
   ]
  },
  {
   "cell_type": "code",
   "execution_count": 39,
   "metadata": {},
   "outputs": [
    {
     "data": {
      "text/html": [
       "<pre>Warning: Ignoring columns Job, Address, Lat, Long, Country, Timezone;</pre>"
      ],
      "text/plain": [
       "Warning: Ignoring columns Job, Address, Lat, Long, Country, Timezone;"
      ]
     },
     "metadata": {},
     "output_type": "display_data"
    },
    {
     "data": {
      "text/html": [
       "<pre> To use one of these as a rating column, specify the column name to be used as target</pre>"
      ],
      "text/plain": [
       " To use one of these as a rating column, specify the column name to be used as target"
      ]
     },
     "metadata": {},
     "output_type": "display_data"
    },
    {
     "data": {
      "text/html": [
       "<pre>    and use a method that allows the use of a target.</pre>"
      ],
      "text/plain": [
       "    and use a method that allows the use of a target."
      ]
     },
     "metadata": {},
     "output_type": "display_data"
    },
    {
     "data": {
      "text/html": [
       "<pre>Preparing data set.</pre>"
      ],
      "text/plain": [
       "Preparing data set."
      ]
     },
     "metadata": {},
     "output_type": "display_data"
    },
    {
     "data": {
      "text/html": [
       "<pre>    Data has 100 observations with 100 users and 55 items.</pre>"
      ],
      "text/plain": [
       "    Data has 100 observations with 100 users and 55 items."
      ]
     },
     "metadata": {},
     "output_type": "display_data"
    },
    {
     "data": {
      "text/html": [
       "<pre>    Data prepared in: 0.031779s</pre>"
      ],
      "text/plain": [
       "    Data prepared in: 0.031779s"
      ]
     },
     "metadata": {},
     "output_type": "display_data"
    },
    {
     "data": {
      "text/html": [
       "<pre>Training model from provided data.</pre>"
      ],
      "text/plain": [
       "Training model from provided data."
      ]
     },
     "metadata": {},
     "output_type": "display_data"
    },
    {
     "data": {
      "text/html": [
       "<pre>Gathering per-item and per-user statistics.</pre>"
      ],
      "text/plain": [
       "Gathering per-item and per-user statistics."
      ]
     },
     "metadata": {},
     "output_type": "display_data"
    },
    {
     "data": {
      "text/html": [
       "<pre>+--------------------------------+------------+</pre>"
      ],
      "text/plain": [
       "+--------------------------------+------------+"
      ]
     },
     "metadata": {},
     "output_type": "display_data"
    },
    {
     "data": {
      "text/html": [
       "<pre>| Elapsed Time (Item Statistics) | % Complete |</pre>"
      ],
      "text/plain": [
       "| Elapsed Time (Item Statistics) | % Complete |"
      ]
     },
     "metadata": {},
     "output_type": "display_data"
    },
    {
     "data": {
      "text/html": [
       "<pre>+--------------------------------+------------+</pre>"
      ],
      "text/plain": [
       "+--------------------------------+------------+"
      ]
     },
     "metadata": {},
     "output_type": "display_data"
    },
    {
     "data": {
      "text/html": [
       "<pre>| 914us                          | 100        |</pre>"
      ],
      "text/plain": [
       "| 914us                          | 100        |"
      ]
     },
     "metadata": {},
     "output_type": "display_data"
    },
    {
     "data": {
      "text/html": [
       "<pre>+--------------------------------+------------+</pre>"
      ],
      "text/plain": [
       "+--------------------------------+------------+"
      ]
     },
     "metadata": {},
     "output_type": "display_data"
    },
    {
     "data": {
      "text/html": [
       "<pre>Setting up lookup tables.</pre>"
      ],
      "text/plain": [
       "Setting up lookup tables."
      ]
     },
     "metadata": {},
     "output_type": "display_data"
    },
    {
     "data": {
      "text/html": [
       "<pre>Processing data in one pass using dense lookup tables.</pre>"
      ],
      "text/plain": [
       "Processing data in one pass using dense lookup tables."
      ]
     },
     "metadata": {},
     "output_type": "display_data"
    },
    {
     "data": {
      "text/html": [
       "<pre>+-------------------------------------+------------------+-----------------+</pre>"
      ],
      "text/plain": [
       "+-------------------------------------+------------------+-----------------+"
      ]
     },
     "metadata": {},
     "output_type": "display_data"
    },
    {
     "data": {
      "text/html": [
       "<pre>| Elapsed Time (Constructing Lookups) | Total % Complete | Items Processed |</pre>"
      ],
      "text/plain": [
       "| Elapsed Time (Constructing Lookups) | Total % Complete | Items Processed |"
      ]
     },
     "metadata": {},
     "output_type": "display_data"
    },
    {
     "data": {
      "text/html": [
       "<pre>+-------------------------------------+------------------+-----------------+</pre>"
      ],
      "text/plain": [
       "+-------------------------------------+------------------+-----------------+"
      ]
     },
     "metadata": {},
     "output_type": "display_data"
    },
    {
     "data": {
      "text/html": [
       "<pre>| 1.366ms                             | 0.75             | 0               |</pre>"
      ],
      "text/plain": [
       "| 1.366ms                             | 0.75             | 0               |"
      ]
     },
     "metadata": {},
     "output_type": "display_data"
    },
    {
     "data": {
      "text/html": [
       "<pre>| 2.493ms                             | 100              | 55              |</pre>"
      ],
      "text/plain": [
       "| 2.493ms                             | 100              | 55              |"
      ]
     },
     "metadata": {},
     "output_type": "display_data"
    },
    {
     "data": {
      "text/html": [
       "<pre>+-------------------------------------+------------------+-----------------+</pre>"
      ],
      "text/plain": [
       "+-------------------------------------+------------------+-----------------+"
      ]
     },
     "metadata": {},
     "output_type": "display_data"
    },
    {
     "data": {
      "text/html": [
       "<pre>Finalizing lookup tables.</pre>"
      ],
      "text/plain": [
       "Finalizing lookup tables."
      ]
     },
     "metadata": {},
     "output_type": "display_data"
    },
    {
     "data": {
      "text/html": [
       "<pre>Generating candidate set for working with new users.</pre>"
      ],
      "text/plain": [
       "Generating candidate set for working with new users."
      ]
     },
     "metadata": {},
     "output_type": "display_data"
    },
    {
     "data": {
      "text/html": [
       "<pre>Finished training in 0.00614s</pre>"
      ],
      "text/plain": [
       "Finished training in 0.00614s"
      ]
     },
     "metadata": {},
     "output_type": "display_data"
    }
   ],
   "source": [
    "model = tc.recommender.create(actions, 'Name', 'City')"
   ]
  },
  {
   "cell_type": "code",
   "execution_count": 50,
   "metadata": {},
   "outputs": [
    {
     "data": {
      "text/plain": [
       "turicreate.data_structures.sframe.SFrame"
      ]
     },
     "execution_count": 50,
     "metadata": {},
     "output_type": "execute_result"
    }
   ],
   "source": [
    "type(model.recommend())"
   ]
  },
  {
   "cell_type": "code",
   "execution_count": null,
   "metadata": {},
   "outputs": [],
   "source": []
  }
 ],
 "metadata": {
  "kernelspec": {
   "display_name": "Python 3",
   "language": "python",
   "name": "python3"
  },
  "language_info": {
   "codemirror_mode": {
    "name": "ipython",
    "version": 3
   },
   "file_extension": ".py",
   "mimetype": "text/x-python",
   "name": "python",
   "nbconvert_exporter": "python",
   "pygments_lexer": "ipython3",
   "version": "3.6.8"
  }
 },
 "nbformat": 4,
 "nbformat_minor": 2
}
